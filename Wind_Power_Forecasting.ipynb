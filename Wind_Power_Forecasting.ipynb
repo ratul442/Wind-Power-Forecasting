{
  "nbformat": 4,
  "nbformat_minor": 0,
  "metadata": {
    "kernelspec": {
      "name": "python3",
      "display_name": "Python 3",
      "language": "python"
    },
    "language_info": {
      "name": "python",
      "version": "3.7.6",
      "mimetype": "text/x-python",
      "codemirror_mode": {
        "name": "ipython",
        "version": 3
      },
      "pygments_lexer": "ipython3",
      "nbconvert_exporter": "python",
      "file_extension": ".py"
    },
    "colab": {
      "name": "Wind-Power-Forecasting.ipynb",
      "provenance": []
    }
  },
  "cells": [
    {
      "cell_type": "markdown",
      "metadata": {
        "id": "Dw8oHmfmnOy-"
      },
      "source": [
        "## Wind Power Forecasting"
      ]
    },
    {
      "cell_type": "code",
      "metadata": {
        "_uuid": "d629ff2d2480ee46fbb7e2d37f6b5fab8052498a",
        "_cell_guid": "79c7e3d0-c299-4dcb-8224-4455121ee9b0",
        "trusted": true,
        "id": "TSZ3Cg0knOy-"
      },
      "source": [
        "# import libraries\n",
        "import numpy as np\n",
        "import pandas as pd\n",
        "import matplotlib.pyplot as plt"
      ],
      "execution_count": null,
      "outputs": []
    },
    {
      "cell_type": "code",
      "metadata": {
        "trusted": true,
        "id": "65cfuDvEnOy_",
        "outputId": "fbf9a2f3-7eff-4d4e-bda4-4c42979c5e7e"
      },
      "source": [
        "df = pd.read_csv('/content/Turbine_Data.csv')\n",
        "df.head()"
      ],
      "execution_count": null,
      "outputs": [
        {
          "output_type": "execute_result",
          "data": {
            "text/plain": [
              "                       Unnamed: 0  ActivePower  AmbientTemperatue  \\\n",
              "118219  2020-03-30 23:10:00+00:00    70.044465          27.523741   \n",
              "118220  2020-03-30 23:20:00+00:00    40.833474          27.602882   \n",
              "118221  2020-03-30 23:30:00+00:00    20.777790          27.560925   \n",
              "118222  2020-03-30 23:40:00+00:00    62.091039          27.810472   \n",
              "118223  2020-03-30 23:50:00+00:00    68.664425          27.915828   \n",
              "\n",
              "        BearingShaftTemperature  Blade1PitchAngle  Blade2PitchAngle  \\\n",
              "118219                45.711129          1.515669          1.950088   \n",
              "118220                45.598573          1.702809          2.136732   \n",
              "118221                45.462045          1.706214          2.139664   \n",
              "118222                45.343827          1.575352          2.009781   \n",
              "118223                45.231610          1.499323          1.933124   \n",
              "\n",
              "        Blade3PitchAngle  ControlBoxTemperature  GearboxBearingTemperature  \\\n",
              "118219          1.950088                    0.0                  59.821165   \n",
              "118220          2.136732                    0.0                  59.142038   \n",
              "118221          2.139664                    0.0                  58.439439   \n",
              "118222          2.009781                    0.0                  58.205413   \n",
              "118223          1.933124                    0.0                  58.581716   \n",
              "\n",
              "        GearboxOilTemperature  ...  GeneratorWinding2Temperature  \\\n",
              "118219              55.193793  ...                     58.148777   \n",
              "118220              54.798545  ...                     57.550367   \n",
              "118221              54.380456  ...                     57.099335   \n",
              "118222              54.079014  ...                     56.847239   \n",
              "118223              54.080505  ...                     56.741040   \n",
              "\n",
              "        HubTemperature  MainBoxTemperature  NacellePosition  ReactivePower  \\\n",
              "118219       39.008931           36.476562            178.0      13.775785   \n",
              "118220       39.006759           36.328125            178.0       8.088928   \n",
              "118221       39.003815           36.131944            178.0       4.355978   \n",
              "118222       39.003815           36.007805            190.0      12.018077   \n",
              "118223       39.003815           35.914062            203.0      14.439669   \n",
              "\n",
              "        RotorRPM  TurbineStatus  WTG  WindDirection WindSpeed  \n",
              "118219  9.234004            2.0  G01          178.0  3.533445  \n",
              "118220  9.229370            2.0  G01          178.0  3.261231  \n",
              "118221  9.236802            2.0  G01          178.0  3.331839  \n",
              "118222  9.237374            2.0  G01          190.0  3.284468  \n",
              "118223  9.235532            2.0  G01          203.0  3.475205  \n",
              "\n",
              "[5 rows x 22 columns]"
            ],
            "text/html": [
              "<div>\n",
              "<style scoped>\n",
              "    .dataframe tbody tr th:only-of-type {\n",
              "        vertical-align: middle;\n",
              "    }\n",
              "\n",
              "    .dataframe tbody tr th {\n",
              "        vertical-align: top;\n",
              "    }\n",
              "\n",
              "    .dataframe thead th {\n",
              "        text-align: right;\n",
              "    }\n",
              "</style>\n",
              "<table border=\"1\" class=\"dataframe\">\n",
              "  <thead>\n",
              "    <tr style=\"text-align: right;\">\n",
              "      <th></th>\n",
              "      <th>Unnamed: 0</th>\n",
              "      <th>ActivePower</th>\n",
              "      <th>AmbientTemperatue</th>\n",
              "      <th>BearingShaftTemperature</th>\n",
              "      <th>Blade1PitchAngle</th>\n",
              "      <th>Blade2PitchAngle</th>\n",
              "      <th>Blade3PitchAngle</th>\n",
              "      <th>ControlBoxTemperature</th>\n",
              "      <th>GearboxBearingTemperature</th>\n",
              "      <th>GearboxOilTemperature</th>\n",
              "      <th>...</th>\n",
              "      <th>GeneratorWinding2Temperature</th>\n",
              "      <th>HubTemperature</th>\n",
              "      <th>MainBoxTemperature</th>\n",
              "      <th>NacellePosition</th>\n",
              "      <th>ReactivePower</th>\n",
              "      <th>RotorRPM</th>\n",
              "      <th>TurbineStatus</th>\n",
              "      <th>WTG</th>\n",
              "      <th>WindDirection</th>\n",
              "      <th>WindSpeed</th>\n",
              "    </tr>\n",
              "  </thead>\n",
              "  <tbody>\n",
              "    <tr>\n",
              "      <th>118219</th>\n",
              "      <td>2020-03-30 23:10:00+00:00</td>\n",
              "      <td>70.044465</td>\n",
              "      <td>27.523741</td>\n",
              "      <td>45.711129</td>\n",
              "      <td>1.515669</td>\n",
              "      <td>1.950088</td>\n",
              "      <td>1.950088</td>\n",
              "      <td>0.0</td>\n",
              "      <td>59.821165</td>\n",
              "      <td>55.193793</td>\n",
              "      <td>...</td>\n",
              "      <td>58.148777</td>\n",
              "      <td>39.008931</td>\n",
              "      <td>36.476562</td>\n",
              "      <td>178.0</td>\n",
              "      <td>13.775785</td>\n",
              "      <td>9.234004</td>\n",
              "      <td>2.0</td>\n",
              "      <td>G01</td>\n",
              "      <td>178.0</td>\n",
              "      <td>3.533445</td>\n",
              "    </tr>\n",
              "    <tr>\n",
              "      <th>118220</th>\n",
              "      <td>2020-03-30 23:20:00+00:00</td>\n",
              "      <td>40.833474</td>\n",
              "      <td>27.602882</td>\n",
              "      <td>45.598573</td>\n",
              "      <td>1.702809</td>\n",
              "      <td>2.136732</td>\n",
              "      <td>2.136732</td>\n",
              "      <td>0.0</td>\n",
              "      <td>59.142038</td>\n",
              "      <td>54.798545</td>\n",
              "      <td>...</td>\n",
              "      <td>57.550367</td>\n",
              "      <td>39.006759</td>\n",
              "      <td>36.328125</td>\n",
              "      <td>178.0</td>\n",
              "      <td>8.088928</td>\n",
              "      <td>9.229370</td>\n",
              "      <td>2.0</td>\n",
              "      <td>G01</td>\n",
              "      <td>178.0</td>\n",
              "      <td>3.261231</td>\n",
              "    </tr>\n",
              "    <tr>\n",
              "      <th>118221</th>\n",
              "      <td>2020-03-30 23:30:00+00:00</td>\n",
              "      <td>20.777790</td>\n",
              "      <td>27.560925</td>\n",
              "      <td>45.462045</td>\n",
              "      <td>1.706214</td>\n",
              "      <td>2.139664</td>\n",
              "      <td>2.139664</td>\n",
              "      <td>0.0</td>\n",
              "      <td>58.439439</td>\n",
              "      <td>54.380456</td>\n",
              "      <td>...</td>\n",
              "      <td>57.099335</td>\n",
              "      <td>39.003815</td>\n",
              "      <td>36.131944</td>\n",
              "      <td>178.0</td>\n",
              "      <td>4.355978</td>\n",
              "      <td>9.236802</td>\n",
              "      <td>2.0</td>\n",
              "      <td>G01</td>\n",
              "      <td>178.0</td>\n",
              "      <td>3.331839</td>\n",
              "    </tr>\n",
              "    <tr>\n",
              "      <th>118222</th>\n",
              "      <td>2020-03-30 23:40:00+00:00</td>\n",
              "      <td>62.091039</td>\n",
              "      <td>27.810472</td>\n",
              "      <td>45.343827</td>\n",
              "      <td>1.575352</td>\n",
              "      <td>2.009781</td>\n",
              "      <td>2.009781</td>\n",
              "      <td>0.0</td>\n",
              "      <td>58.205413</td>\n",
              "      <td>54.079014</td>\n",
              "      <td>...</td>\n",
              "      <td>56.847239</td>\n",
              "      <td>39.003815</td>\n",
              "      <td>36.007805</td>\n",
              "      <td>190.0</td>\n",
              "      <td>12.018077</td>\n",
              "      <td>9.237374</td>\n",
              "      <td>2.0</td>\n",
              "      <td>G01</td>\n",
              "      <td>190.0</td>\n",
              "      <td>3.284468</td>\n",
              "    </tr>\n",
              "    <tr>\n",
              "      <th>118223</th>\n",
              "      <td>2020-03-30 23:50:00+00:00</td>\n",
              "      <td>68.664425</td>\n",
              "      <td>27.915828</td>\n",
              "      <td>45.231610</td>\n",
              "      <td>1.499323</td>\n",
              "      <td>1.933124</td>\n",
              "      <td>1.933124</td>\n",
              "      <td>0.0</td>\n",
              "      <td>58.581716</td>\n",
              "      <td>54.080505</td>\n",
              "      <td>...</td>\n",
              "      <td>56.741040</td>\n",
              "      <td>39.003815</td>\n",
              "      <td>35.914062</td>\n",
              "      <td>203.0</td>\n",
              "      <td>14.439669</td>\n",
              "      <td>9.235532</td>\n",
              "      <td>2.0</td>\n",
              "      <td>G01</td>\n",
              "      <td>203.0</td>\n",
              "      <td>3.475205</td>\n",
              "    </tr>\n",
              "  </tbody>\n",
              "</table>\n",
              "<p>5 rows × 22 columns</p>\n",
              "</div>"
            ]
          },
          "metadata": {
            "tags": []
          },
          "execution_count": 65
        }
      ]
    },
    {
      "cell_type": "code",
      "metadata": {
        "trusted": true,
        "id": "CVxclad9nOy_",
        "outputId": "97ab3a82-8e87-4b57-bb15-6ff05c027561"
      },
      "source": [
        "df.info()"
      ],
      "execution_count": null,
      "outputs": [
        {
          "output_type": "stream",
          "text": [
            "<class 'pandas.core.frame.DataFrame'>\n",
            "RangeIndex: 118224 entries, 0 to 118223\n",
            "Data columns (total 22 columns):\n",
            " #   Column                        Non-Null Count   Dtype  \n",
            "---  ------                        --------------   -----  \n",
            " 0   Unnamed: 0                    118224 non-null  object \n",
            " 1   ActivePower                   94750 non-null   float64\n",
            " 2   AmbientTemperatue             93817 non-null   float64\n",
            " 3   BearingShaftTemperature       62518 non-null   float64\n",
            " 4   Blade1PitchAngle              41996 non-null   float64\n",
            " 5   Blade2PitchAngle              41891 non-null   float64\n",
            " 6   Blade3PitchAngle              41891 non-null   float64\n",
            " 7   ControlBoxTemperature         62160 non-null   float64\n",
            " 8   GearboxBearingTemperature     62540 non-null   float64\n",
            " 9   GearboxOilTemperature         62438 non-null   float64\n",
            " 10  GeneratorRPM                  62295 non-null   float64\n",
            " 11  GeneratorWinding1Temperature  62427 non-null   float64\n",
            " 12  GeneratorWinding2Temperature  62449 non-null   float64\n",
            " 13  HubTemperature                62406 non-null   float64\n",
            " 14  MainBoxTemperature            62507 non-null   float64\n",
            " 15  NacellePosition               72278 non-null   float64\n",
            " 16  ReactivePower                 94748 non-null   float64\n",
            " 17  RotorRPM                      62127 non-null   float64\n",
            " 18  TurbineStatus                 62908 non-null   float64\n",
            " 19  WTG                           118224 non-null  object \n",
            " 20  WindDirection                 72278 non-null   float64\n",
            " 21  WindSpeed                     94595 non-null   float64\n",
            "dtypes: float64(20), object(2)\n",
            "memory usage: 19.8+ MB\n"
          ],
          "name": "stdout"
        }
      ]
    },
    {
      "cell_type": "code",
      "metadata": {
        "trusted": true,
        "id": "2UB9BzN-nOzA",
        "outputId": "108d3bd9-03c1-4a38-8aef-252f2e6153ba"
      },
      "source": [
        "ig, ax = plt.subplots()\n",
        "ax.scatter(df[\"Unnamed: 0\"][:1000], df[\"ActivePower\"][:1000])"
      ],
      "execution_count": null,
      "outputs": [
        {
          "output_type": "execute_result",
          "data": {
            "text/plain": [
              "<matplotlib.collections.PathCollection at 0x7f89e71ec3d0>"
            ]
          },
          "metadata": {
            "tags": []
          },
          "execution_count": 67
        },
        {
          "output_type": "display_data",
          "data": {
            "text/plain": [
              "<Figure size 432x288 with 1 Axes>"
            ],
            "image/png": "[encoded data removed]"
          },
          "metadata": {
            "tags": [],
            "needs_background": "light"
          }
        }
      ]
    },
    {
      "cell_type": "code",
      "metadata": {
        "trusted": true,
        "id": "4h-aoZgjnOzA",
        "outputId": "7dc65a2f-42bb-42c2-905d-0a61bb66a69e"
      },
      "source": [
        "df.ActivePower.plot.hist()"
      ],
      "execution_count": null,
      "outputs": [
        {
          "output_type": "execute_result",
          "data": {
            "text/plain": [
              "<matplotlib.axes._subplots.AxesSubplot at 0x7f89e6349590>"
            ]
          },
          "metadata": {
            "tags": []
          },
          "execution_count": 68
        },
        {
          "output_type": "display_data",
          "data": {
            "text/plain": [
              "<Figure size 432x288 with 1 Axes>"
            ],
            "image/png": "[encoded data removed]"
          },
          "metadata": {
            "tags": [],
            "needs_background": "light"
          }
        }
      ]
    },
    {
      "cell_type": "markdown",
      "metadata": {
        "id": "ewSNzrSPnOzB"
      },
      "source": [
        "## Parsing dates\n",
        "When working with time series data, it's a good idea to make sure any date data is the format of a datetime object (a Python data type which encodes specific information about dates)."
      ]
    },
    {
      "cell_type": "code",
      "metadata": {
        "trusted": true,
        "id": "_IXueTmmnOzB"
      },
      "source": [
        "df = pd.read_csv(\"../input/wind-power-forecasting/Turbine_Data.csv\",\n",
        "                 low_memory=False,\n",
        "                 parse_dates=[\"Unnamed: 0\"])"
      ],
      "execution_count": null,
      "outputs": []
    },
    {
      "cell_type": "code",
      "metadata": {
        "trusted": true,
        "id": "wgfj8e6snOzC",
        "outputId": "e9d81351-d783-441f-c9e5-a5a6e220214d"
      },
      "source": [
        "# With parse_dates... check dtype of \"Unnamed: 0\"\n",
        "df.info()"
      ],
      "execution_count": null,
      "outputs": [
        {
          "output_type": "stream",
          "text": [
            "<class 'pandas.core.frame.DataFrame'>\n",
            "RangeIndex: 118224 entries, 0 to 118223\n",
            "Data columns (total 22 columns):\n",
            " #   Column                        Non-Null Count   Dtype              \n",
            "---  ------                        --------------   -----              \n",
            " 0   Unnamed: 0                    118224 non-null  datetime64[ns, UTC]\n",
            " 1   ActivePower                   94750 non-null   float64            \n",
            " 2   AmbientTemperatue             93817 non-null   float64            \n",
            " 3   BearingShaftTemperature       62518 non-null   float64            \n",
            " 4   Blade1PitchAngle              41996 non-null   float64            \n",
            " 5   Blade2PitchAngle              41891 non-null   float64            \n",
            " 6   Blade3PitchAngle              41891 non-null   float64            \n",
            " 7   ControlBoxTemperature         62160 non-null   float64            \n",
            " 8   GearboxBearingTemperature     62540 non-null   float64            \n",
            " 9   GearboxOilTemperature         62438 non-null   float64            \n",
            " 10  GeneratorRPM                  62295 non-null   float64            \n",
            " 11  GeneratorWinding1Temperature  62427 non-null   float64            \n",
            " 12  GeneratorWinding2Temperature  62449 non-null   float64            \n",
            " 13  HubTemperature                62406 non-null   float64            \n",
            " 14  MainBoxTemperature            62507 non-null   float64            \n",
            " 15  NacellePosition               72278 non-null   float64            \n",
            " 16  ReactivePower                 94748 non-null   float64            \n",
            " 17  RotorRPM                      62127 non-null   float64            \n",
            " 18  TurbineStatus                 62908 non-null   float64            \n",
            " 19  WTG                           118224 non-null  object             \n",
            " 20  WindDirection                 72278 non-null   float64            \n",
            " 21  WindSpeed                     94595 non-null   float64            \n",
            "dtypes: datetime64[ns, UTC](1), float64(20), object(1)\n",
            "memory usage: 19.8+ MB\n"
          ],
          "name": "stdout"
        }
      ]
    },
    {
      "cell_type": "code",
      "metadata": {
        "trusted": true,
        "id": "dlQS-44ZnOzC"
      },
      "source": [
        "# duplicate the date column to change it's name \n",
        "df['DateTime'] = df['Unnamed: 0'] \n",
        "df.drop('Unnamed: 0', axis=1, inplace=True)"
      ],
      "execution_count": null,
      "outputs": []
    },
    {
      "cell_type": "code",
      "metadata": {
        "trusted": true,
        "id": "KgTAk9QvnOzC",
        "outputId": "e07d4af6-e0dc-4196-ab5e-3372eda4d9d6"
      },
      "source": [
        "df['DateTime'].head(20)"
      ],
      "execution_count": null,
      "outputs": [
        {
          "output_type": "execute_result",
          "data": {
            "text/plain": [
              "0    2017-12-31 00:00:00+00:00\n",
              "1    2017-12-31 00:10:00+00:00\n",
              "2    2017-12-31 00:20:00+00:00\n",
              "3    2017-12-31 00:30:00+00:00\n",
              "4    2017-12-31 00:40:00+00:00\n",
              "5    2017-12-31 00:50:00+00:00\n",
              "6    2017-12-31 01:00:00+00:00\n",
              "7    2017-12-31 01:10:00+00:00\n",
              "8    2017-12-31 01:20:00+00:00\n",
              "9    2017-12-31 01:30:00+00:00\n",
              "10   2017-12-31 01:40:00+00:00\n",
              "11   2017-12-31 01:50:00+00:00\n",
              "12   2017-12-31 02:00:00+00:00\n",
              "13   2017-12-31 02:10:00+00:00\n",
              "14   2017-12-31 02:20:00+00:00\n",
              "15   2017-12-31 02:30:00+00:00\n",
              "16   2017-12-31 02:40:00+00:00\n",
              "17   2017-12-31 02:50:00+00:00\n",
              "18   2017-12-31 03:00:00+00:00\n",
              "19   2017-12-31 03:10:00+00:00\n",
              "Name: DateTime, dtype: datetime64[ns, UTC]"
            ]
          },
          "metadata": {
            "tags": []
          },
          "execution_count": 72
        }
      ]
    },
    {
      "cell_type": "code",
      "metadata": {
        "trusted": true,
        "id": "jJd0rt8JnOzD"
      },
      "source": [
        "# Add datetime parameters \n",
        "df['DateTime'] = pd.to_datetime(df['DateTime'], \n",
        " format = '%Y-%m-%dT%H:%M:%SZ', \n",
        " errors = 'coerce')\n",
        "\n",
        "df['year'] = df['DateTime'].dt.year\n",
        "df['month'] = df['DateTime'].dt.month\n",
        "df['day'] = df['DateTime'].dt.day\n",
        "df['hour'] = df['DateTime'].dt.hour\n",
        "df['minute'] = df['DateTime'].dt.minute"
      ],
      "execution_count": null,
      "outputs": []
    },
    {
      "cell_type": "code",
      "metadata": {
        "trusted": true,
        "id": "V2d64K2enOzF"
      },
      "source": [
        "# Drop original DateTime column\n",
        "df.drop('DateTime', axis=1, inplace= True)"
      ],
      "execution_count": null,
      "outputs": []
    },
    {
      "cell_type": "code",
      "metadata": {
        "trusted": true,
        "id": "7_LrLrkinOzF",
        "outputId": "eb7b76a1-e016-4c1d-b51e-cba258809579"
      },
      "source": [
        "df"
      ],
      "execution_count": null,
      "outputs": [
        {
          "output_type": "execute_result",
          "data": {
            "text/plain": [
              "        ActivePower  AmbientTemperatue  BearingShaftTemperature  \\\n",
              "0               NaN                NaN                      NaN   \n",
              "1               NaN                NaN                      NaN   \n",
              "2               NaN                NaN                      NaN   \n",
              "3               NaN                NaN                      NaN   \n",
              "4               NaN                NaN                      NaN   \n",
              "...             ...                ...                      ...   \n",
              "118219    70.044465          27.523741                45.711129   \n",
              "118220    40.833474          27.602882                45.598573   \n",
              "118221    20.777790          27.560925                45.462045   \n",
              "118222    62.091039          27.810472                45.343827   \n",
              "118223    68.664425          27.915828                45.231610   \n",
              "\n",
              "        Blade1PitchAngle  Blade2PitchAngle  Blade3PitchAngle  \\\n",
              "0                    NaN               NaN               NaN   \n",
              "1                    NaN               NaN               NaN   \n",
              "2                    NaN               NaN               NaN   \n",
              "3                    NaN               NaN               NaN   \n",
              "4                    NaN               NaN               NaN   \n",
              "...                  ...               ...               ...   \n",
              "118219          1.515669          1.950088          1.950088   \n",
              "118220          1.702809          2.136732          2.136732   \n",
              "118221          1.706214          2.139664          2.139664   \n",
              "118222          1.575352          2.009781          2.009781   \n",
              "118223          1.499323          1.933124          1.933124   \n",
              "\n",
              "        ControlBoxTemperature  GearboxBearingTemperature  \\\n",
              "0                         NaN                        NaN   \n",
              "1                         NaN                        NaN   \n",
              "2                         NaN                        NaN   \n",
              "3                         NaN                        NaN   \n",
              "4                         NaN                        NaN   \n",
              "...                       ...                        ...   \n",
              "118219                    0.0                  59.821165   \n",
              "118220                    0.0                  59.142038   \n",
              "118221                    0.0                  58.439439   \n",
              "118222                    0.0                  58.205413   \n",
              "118223                    0.0                  58.581716   \n",
              "\n",
              "        GearboxOilTemperature  GeneratorRPM  ...  RotorRPM  TurbineStatus  \\\n",
              "0                         NaN           NaN  ...       NaN            NaN   \n",
              "1                         NaN           NaN  ...       NaN            NaN   \n",
              "2                         NaN           NaN  ...       NaN            NaN   \n",
              "3                         NaN           NaN  ...       NaN            NaN   \n",
              "4                         NaN           NaN  ...       NaN            NaN   \n",
              "...                       ...           ...  ...       ...            ...   \n",
              "118219              55.193793   1029.870744  ...  9.234004            2.0   \n",
              "118220              54.798545   1030.160478  ...  9.229370            2.0   \n",
              "118221              54.380456   1030.137822  ...  9.236802            2.0   \n",
              "118222              54.079014   1030.178178  ...  9.237374            2.0   \n",
              "118223              54.080505   1029.834789  ...  9.235532            2.0   \n",
              "\n",
              "        WTG  WindDirection  WindSpeed  year  month  day hour  minute  \n",
              "0       G01            NaN        NaN  2017     12   31    0       0  \n",
              "1       G01            NaN        NaN  2017     12   31    0      10  \n",
              "2       G01            NaN        NaN  2017     12   31    0      20  \n",
              "3       G01            NaN        NaN  2017     12   31    0      30  \n",
              "4       G01            NaN        NaN  2017     12   31    0      40  \n",
              "...     ...            ...        ...   ...    ...  ...  ...     ...  \n",
              "118219  G01          178.0   3.533445  2020      3   30   23      10  \n",
              "118220  G01          178.0   3.261231  2020      3   30   23      20  \n",
              "118221  G01          178.0   3.331839  2020      3   30   23      30  \n",
              "118222  G01          190.0   3.284468  2020      3   30   23      40  \n",
              "118223  G01          203.0   3.475205  2020      3   30   23      50  \n",
              "\n",
              "[118224 rows x 26 columns]"
            ],
            "text/html": [
              "<div>\n",
              "<style scoped>\n",
              "    .dataframe tbody tr th:only-of-type {\n",
              "        vertical-align: middle;\n",
              "    }\n",
              "\n",
              "    .dataframe tbody tr th {\n",
              "        vertical-align: top;\n",
              "    }\n",
              "\n",
              "    .dataframe thead th {\n",
              "        text-align: right;\n",
              "    }\n",
              "</style>\n",
              "<table border=\"1\" class=\"dataframe\">\n",
              "  <thead>\n",
              "    <tr style=\"text-align: right;\">\n",
              "      <th></th>\n",
              "      <th>ActivePower</th>\n",
              "      <th>AmbientTemperatue</th>\n",
              "      <th>BearingShaftTemperature</th>\n",
              "      <th>Blade1PitchAngle</th>\n",
              "      <th>Blade2PitchAngle</th>\n",
              "      <th>Blade3PitchAngle</th>\n",
              "      <th>ControlBoxTemperature</th>\n",
              "      <th>GearboxBearingTemperature</th>\n",
              "      <th>GearboxOilTemperature</th>\n",
              "      <th>GeneratorRPM</th>\n",
              "      <th>...</th>\n",
              "      <th>RotorRPM</th>\n",
              "      <th>TurbineStatus</th>\n",
              "      <th>WTG</th>\n",
              "      <th>WindDirection</th>\n",
              "      <th>WindSpeed</th>\n",
              "      <th>year</th>\n",
              "      <th>month</th>\n",
              "      <th>day</th>\n",
              "      <th>hour</th>\n",
              "      <th>minute</th>\n",
              "    </tr>\n",
              "  </thead>\n",
              "  <tbody>\n",
              "    <tr>\n",
              "      <th>0</th>\n",
              "      <td>NaN</td>\n",
              "      <td>NaN</td>\n",
              "      <td>NaN</td>\n",
              "      <td>NaN</td>\n",
              "      <td>NaN</td>\n",
              "      <td>NaN</td>\n",
              "      <td>NaN</td>\n",
              "      <td>NaN</td>\n",
              "      <td>NaN</td>\n",
              "      <td>NaN</td>\n",
              "      <td>...</td>\n",
              "      <td>NaN</td>\n",
              "      <td>NaN</td>\n",
              "      <td>G01</td>\n",
              "      <td>NaN</td>\n",
              "      <td>NaN</td>\n",
              "      <td>2017</td>\n",
              "      <td>12</td>\n",
              "      <td>31</td>\n",
              "      <td>0</td>\n",
              "      <td>0</td>\n",
              "    </tr>\n",
              "    <tr>\n",
              "      <th>1</th>\n",
              "      <td>NaN</td>\n",
              "      <td>NaN</td>\n",
              "      <td>NaN</td>\n",
              "      <td>NaN</td>\n",
              "      <td>NaN</td>\n",
              "      <td>NaN</td>\n",
              "      <td>NaN</td>\n",
              "      <td>NaN</td>\n",
              "      <td>NaN</td>\n",
              "      <td>NaN</td>\n",
              "      <td>...</td>\n",
              "      <td>NaN</td>\n",
              "      <td>NaN</td>\n",
              "      <td>G01</td>\n",
              "      <td>NaN</td>\n",
              "      <td>NaN</td>\n",
              "      <td>2017</td>\n",
              "      <td>12</td>\n",
              "      <td>31</td>\n",
              "      <td>0</td>\n",
              "      <td>10</td>\n",
              "    </tr>\n",
              "    <tr>\n",
              "      <th>2</th>\n",
              "      <td>NaN</td>\n",
              "      <td>NaN</td>\n",
              "      <td>NaN</td>\n",
              "      <td>NaN</td>\n",
              "      <td>NaN</td>\n",
              "      <td>NaN</td>\n",
              "      <td>NaN</td>\n",
              "      <td>NaN</td>\n",
              "      <td>NaN</td>\n",
              "      <td>NaN</td>\n",
              "      <td>...</td>\n",
              "      <td>NaN</td>\n",
              "      <td>NaN</td>\n",
              "      <td>G01</td>\n",
              "      <td>NaN</td>\n",
              "      <td>NaN</td>\n",
              "      <td>2017</td>\n",
              "      <td>12</td>\n",
              "      <td>31</td>\n",
              "      <td>0</td>\n",
              "      <td>20</td>\n",
              "    </tr>\n",
              "    <tr>\n",
              "      <th>3</th>\n",
              "      <td>NaN</td>\n",
              "      <td>NaN</td>\n",
              "      <td>NaN</td>\n",
              "      <td>NaN</td>\n",
              "      <td>NaN</td>\n",
              "      <td>NaN</td>\n",
              "      <td>NaN</td>\n",
              "      <td>NaN</td>\n",
              "      <td>NaN</td>\n",
              "      <td>NaN</td>\n",
              "      <td>...</td>\n",
              "      <td>NaN</td>\n",
              "      <td>NaN</td>\n",
              "      <td>G01</td>\n",
              "      <td>NaN</td>\n",
              "      <td>NaN</td>\n",
              "      <td>2017</td>\n",
              "      <td>12</td>\n",
              "      <td>31</td>\n",
              "      <td>0</td>\n",
              "      <td>30</td>\n",
              "    </tr>\n",
              "    <tr>\n",
              "      <th>4</th>\n",
              "      <td>NaN</td>\n",
              "      <td>NaN</td>\n",
              "      <td>NaN</td>\n",
              "      <td>NaN</td>\n",
              "      <td>NaN</td>\n",
              "      <td>NaN</td>\n",
              "      <td>NaN</td>\n",
              "      <td>NaN</td>\n",
              "      <td>NaN</td>\n",
              "      <td>NaN</td>\n",
              "      <td>...</td>\n",
              "      <td>NaN</td>\n",
              "      <td>NaN</td>\n",
              "      <td>G01</td>\n",
              "      <td>NaN</td>\n",
              "      <td>NaN</td>\n",
              "      <td>2017</td>\n",
              "      <td>12</td>\n",
              "      <td>31</td>\n",
              "      <td>0</td>\n",
              "      <td>40</td>\n",
              "    </tr>\n",
              "    <tr>\n",
              "      <th>...</th>\n",
              "      <td>...</td>\n",
              "      <td>...</td>\n",
              "      <td>...</td>\n",
              "      <td>...</td>\n",
              "      <td>...</td>\n",
              "      <td>...</td>\n",
              "      <td>...</td>\n",
              "      <td>...</td>\n",
              "      <td>...</td>\n",
              "      <td>...</td>\n",
              "      <td>...</td>\n",
              "      <td>...</td>\n",
              "      <td>...</td>\n",
              "      <td>...</td>\n",
              "      <td>...</td>\n",
              "      <td>...</td>\n",
              "      <td>...</td>\n",
              "      <td>...</td>\n",
              "      <td>...</td>\n",
              "      <td>...</td>\n",
              "      <td>...</td>\n",
              "    </tr>\n",
              "    <tr>\n",
              "      <th>118219</th>\n",
              "      <td>70.044465</td>\n",
              "      <td>27.523741</td>\n",
              "      <td>45.711129</td>\n",
              "      <td>1.515669</td>\n",
              "      <td>1.950088</td>\n",
              "      <td>1.950088</td>\n",
              "      <td>0.0</td>\n",
              "      <td>59.821165</td>\n",
              "      <td>55.193793</td>\n",
              "      <td>1029.870744</td>\n",
              "      <td>...</td>\n",
              "      <td>9.234004</td>\n",
              "      <td>2.0</td>\n",
              "      <td>G01</td>\n",
              "      <td>178.0</td>\n",
              "      <td>3.533445</td>\n",
              "      <td>2020</td>\n",
              "      <td>3</td>\n",
              "      <td>30</td>\n",
              "      <td>23</td>\n",
              "      <td>10</td>\n",
              "    </tr>\n",
              "    <tr>\n",
              "      <th>118220</th>\n",
              "      <td>40.833474</td>\n",
              "      <td>27.602882</td>\n",
              "      <td>45.598573</td>\n",
              "      <td>1.702809</td>\n",
              "      <td>2.136732</td>\n",
              "      <td>2.136732</td>\n",
              "      <td>0.0</td>\n",
              "      <td>59.142038</td>\n",
              "      <td>54.798545</td>\n",
              "      <td>1030.160478</td>\n",
              "      <td>...</td>\n",
              "      <td>9.229370</td>\n",
              "      <td>2.0</td>\n",
              "      <td>G01</td>\n",
              "      <td>178.0</td>\n",
              "      <td>3.261231</td>\n",
              "      <td>2020</td>\n",
              "      <td>3</td>\n",
              "      <td>30</td>\n",
              "      <td>23</td>\n",
              "      <td>20</td>\n",
              "    </tr>\n",
              "    <tr>\n",
              "      <th>118221</th>\n",
              "      <td>20.777790</td>\n",
              "      <td>27.560925</td>\n",
              "      <td>45.462045</td>\n",
              "      <td>1.706214</td>\n",
              "      <td>2.139664</td>\n",
              "      <td>2.139664</td>\n",
              "      <td>0.0</td>\n",
              "      <td>58.439439</td>\n",
              "      <td>54.380456</td>\n",
              "      <td>1030.137822</td>\n",
              "      <td>...</td>\n",
              "      <td>9.236802</td>\n",
              "      <td>2.0</td>\n",
              "      <td>G01</td>\n",
              "      <td>178.0</td>\n",
              "      <td>3.331839</td>\n",
              "      <td>2020</td>\n",
              "      <td>3</td>\n",
              "      <td>30</td>\n",
              "      <td>23</td>\n",
              "      <td>30</td>\n",
              "    </tr>\n",
              "    <tr>\n",
              "      <th>118222</th>\n",
              "      <td>62.091039</td>\n",
              "      <td>27.810472</td>\n",
              "      <td>45.343827</td>\n",
              "      <td>1.575352</td>\n",
              "      <td>2.009781</td>\n",
              "      <td>2.009781</td>\n",
              "      <td>0.0</td>\n",
              "      <td>58.205413</td>\n",
              "      <td>54.079014</td>\n",
              "      <td>1030.178178</td>\n",
              "      <td>...</td>\n",
              "      <td>9.237374</td>\n",
              "      <td>2.0</td>\n",
              "      <td>G01</td>\n",
              "      <td>190.0</td>\n",
              "      <td>3.284468</td>\n",
              "      <td>2020</td>\n",
              "      <td>3</td>\n",
              "      <td>30</td>\n",
              "      <td>23</td>\n",
              "      <td>40</td>\n",
              "    </tr>\n",
              "    <tr>\n",
              "      <th>118223</th>\n",
              "      <td>68.664425</td>\n",
              "      <td>27.915828</td>\n",
              "      <td>45.231610</td>\n",
              "      <td>1.499323</td>\n",
              "      <td>1.933124</td>\n",
              "      <td>1.933124</td>\n",
              "      <td>0.0</td>\n",
              "      <td>58.581716</td>\n",
              "      <td>54.080505</td>\n",
              "      <td>1029.834789</td>\n",
              "      <td>...</td>\n",
              "      <td>9.235532</td>\n",
              "      <td>2.0</td>\n",
              "      <td>G01</td>\n",
              "      <td>203.0</td>\n",
              "      <td>3.475205</td>\n",
              "      <td>2020</td>\n",
              "      <td>3</td>\n",
              "      <td>30</td>\n",
              "      <td>23</td>\n",
              "      <td>50</td>\n",
              "    </tr>\n",
              "  </tbody>\n",
              "</table>\n",
              "<p>118224 rows × 26 columns</p>\n",
              "</div>"
            ]
          },
          "metadata": {
            "tags": []
          },
          "execution_count": 75
        }
      ]
    },
    {
      "cell_type": "code",
      "metadata": {
        "trusted": true,
        "id": "PqAjGZ3CnOzF",
        "outputId": "7f4860fb-ba53-44da-eb46-4c804abc7e86"
      },
      "source": [
        "df.isna().sum()"
      ],
      "execution_count": null,
      "outputs": [
        {
          "output_type": "execute_result",
          "data": {
            "text/plain": [
              "ActivePower                     23474\n",
              "AmbientTemperatue               24407\n",
              "BearingShaftTemperature         55706\n",
              "Blade1PitchAngle                76228\n",
              "Blade2PitchAngle                76333\n",
              "Blade3PitchAngle                76333\n",
              "ControlBoxTemperature           56064\n",
              "GearboxBearingTemperature       55684\n",
              "GearboxOilTemperature           55786\n",
              "GeneratorRPM                    55929\n",
              "GeneratorWinding1Temperature    55797\n",
              "GeneratorWinding2Temperature    55775\n",
              "HubTemperature                  55818\n",
              "MainBoxTemperature              55717\n",
              "NacellePosition                 45946\n",
              "ReactivePower                   23476\n",
              "RotorRPM                        56097\n",
              "TurbineStatus                   55316\n",
              "WTG                                 0\n",
              "WindDirection                   45946\n",
              "WindSpeed                       23629\n",
              "year                                0\n",
              "month                               0\n",
              "day                                 0\n",
              "hour                                0\n",
              "minute                              0\n",
              "dtype: int64"
            ]
          },
          "metadata": {
            "tags": []
          },
          "execution_count": 76
        }
      ]
    },
    {
      "cell_type": "code",
      "metadata": {
        "trusted": true,
        "id": "jgUBH3M0nOzF"
      },
      "source": [
        "# Fill numeric rows with the median\n",
        "for label, content in df.items():\n",
        "    if pd.api.types.is_numeric_dtype(content):\n",
        "        if pd.isnull(content).sum():\n",
        "            # Add a binary column which tells if the data was missing our not\n",
        "            df[label+\"_is_missing\"] = pd.isnull(content)\n",
        "            # Fill missing numeric values with median since it's more robust than the mean\n",
        "            df[label] = content.fillna(content.median())"
      ],
      "execution_count": null,
      "outputs": []
    },
    {
      "cell_type": "code",
      "metadata": {
        "trusted": true,
        "id": "HqFhNxKfnOzF",
        "outputId": "32d77fdf-ff66-423e-929f-dbc9d4bfb1ca"
      },
      "source": [
        "df.isna().sum()"
      ],
      "execution_count": null,
      "outputs": [
        {
          "output_type": "execute_result",
          "data": {
            "text/plain": [
              "ActivePower                                0\n",
              "AmbientTemperatue                          0\n",
              "BearingShaftTemperature                    0\n",
              "Blade1PitchAngle                           0\n",
              "Blade2PitchAngle                           0\n",
              "Blade3PitchAngle                           0\n",
              "ControlBoxTemperature                      0\n",
              "GearboxBearingTemperature                  0\n",
              "GearboxOilTemperature                      0\n",
              "GeneratorRPM                               0\n",
              "GeneratorWinding1Temperature               0\n",
              "GeneratorWinding2Temperature               0\n",
              "HubTemperature                             0\n",
              "MainBoxTemperature                         0\n",
              "NacellePosition                            0\n",
              "ReactivePower                              0\n",
              "RotorRPM                                   0\n",
              "TurbineStatus                              0\n",
              "WTG                                        0\n",
              "WindDirection                              0\n",
              "WindSpeed                                  0\n",
              "year                                       0\n",
              "month                                      0\n",
              "day                                        0\n",
              "hour                                       0\n",
              "minute                                     0\n",
              "ActivePower_is_missing                     0\n",
              "AmbientTemperatue_is_missing               0\n",
              "BearingShaftTemperature_is_missing         0\n",
              "Blade1PitchAngle_is_missing                0\n",
              "Blade2PitchAngle_is_missing                0\n",
              "Blade3PitchAngle_is_missing                0\n",
              "ControlBoxTemperature_is_missing           0\n",
              "GearboxBearingTemperature_is_missing       0\n",
              "GearboxOilTemperature_is_missing           0\n",
              "GeneratorRPM_is_missing                    0\n",
              "GeneratorWinding1Temperature_is_missing    0\n",
              "GeneratorWinding2Temperature_is_missing    0\n",
              "HubTemperature_is_missing                  0\n",
              "MainBoxTemperature_is_missing              0\n",
              "NacellePosition_is_missing                 0\n",
              "ReactivePower_is_missing                   0\n",
              "RotorRPM_is_missing                        0\n",
              "TurbineStatus_is_missing                   0\n",
              "WindDirection_is_missing                   0\n",
              "WindSpeed_is_missing                       0\n",
              "dtype: int64"
            ]
          },
          "metadata": {
            "tags": []
          },
          "execution_count": 78
        }
      ]
    },
    {
      "cell_type": "code",
      "metadata": {
        "trusted": true,
        "id": "rr8GBVfunOzG"
      },
      "source": [
        "# Turn categorical variables into numbers\n",
        "for label, content in df.items():\n",
        "    # Check columns which aren't numeric\n",
        "    if not pd.api.types.is_numeric_dtype(content):\n",
        "        # Add binary column to inidicate whether sample had missing value\n",
        "        df[label+\"_is_missing\"] = pd.isnull(content)\n",
        "        # We add the +1 because pandas encodes missing categories as -1\n",
        "        df[label] = pd.Categorical(content).codes+1"
      ],
      "execution_count": null,
      "outputs": []
    },
    {
      "cell_type": "code",
      "metadata": {
        "trusted": true,
        "id": "AFJHPH27nOzG",
        "outputId": "1c5aafb9-6999-4d31-df94-a5f7b33ca568"
      },
      "source": [
        "### Testing For Stationarity\n",
        "\n",
        "from statsmodels.tsa.stattools import adfuller\n",
        "test_result=adfuller(df['ActivePower'])\n",
        "#Ho: It is non stationary\n",
        "#H1: It is stationary\n",
        "\n",
        "def adfuller_test(Power):\n",
        "    result=adfuller(Power)\n",
        "    labels = ['ADF Test Statistic','p-value','#Lags Used','Number of Observations Used']\n",
        "    for value,label in zip(result,labels):\n",
        "        print(label+' : '+str(value) )\n",
        "    if result[1] <= 0.05:\n",
        "        print(\"strong evidence against the null hypothesis(Ho), reject the null hypothesis. Data has no unit root and is stationary\")\n",
        "    else:\n",
        "        print(\"weak evidence against null hypothesis, time series has a unit root, indicating it is non-stationary \")\n",
        "        \n",
        "adfuller_test(df['ActivePower'])"
      ],
      "execution_count": null,
      "outputs": [
        {
          "output_type": "stream",
          "text": [
            "ADF Test Statistic : -21.00166405825876\n",
            "p-value : 0.0\n",
            "#Lags Used : 71\n",
            "Number of Observations Used : 118152\n",
            "strong evidence against the null hypothesis(Ho), reject the null hypothesis. Data has no unit root and is stationary\n"
          ],
          "name": "stdout"
        }
      ]
    },
    {
      "cell_type": "code",
      "metadata": {
        "trusted": true,
        "id": "0i0OgaMNnOzG"
      },
      "source": [
        "# Import libraries required \n",
        "import pandas as pd\n",
        "from pandas import Series\n",
        "import numpy as np\n",
        "import datetime\n",
        "from pandas_datareader import data as pdr\n",
        "import matplotlib.pyplot as plt\n",
        "\n",
        "import seaborn\n",
        "from fbprophet import Prophet\n",
        "import statsmodels.api as sm\n",
        "import statsmodels.tsa as ts\n",
        "from statsmodels.tsa.arima_model import ARIMA\n",
        "from statsmodels.tsa.arima_model import ARIMAResults\n",
        "from sklearn.neural_network import MLPRegressor\n",
        "from sklearn.metrics import scorer\n",
        "from sklearn.metrics import accuracy_score\n",
        "from sklearn.metrics import mean_squared_error\n",
        "from sklearn.metrics import r2_score\n",
        "from matplotlib import pyplot\n",
        "import itertools as it\n",
        "from matplotlib import mlab"
      ],
      "execution_count": null,
      "outputs": []
    },
    {
      "cell_type": "code",
      "metadata": {
        "trusted": true,
        "id": "wf4RXhYDnOzG",
        "outputId": "7d44e8ee-2b1c-435d-9eb8-f4e8444296d3"
      },
      "source": [
        "#Analysis of ACF and PACF on Close Price\n",
        "fig = plt.figure(figsize=(10,6))\n",
        "ax1 = fig.add_subplot(211)\n",
        "fig = sm.graphics.tsa.plot_acf(df['ActivePower'], lags=30, ax=ax1)\n",
        "ax2 = fig.add_subplot(212)\n",
        "fig = sm.graphics.tsa.plot_pacf(df['ActivePower'], lags=30, ax=ax2)\n",
        "plt.xlabel('Time lag')\n",
        "plt.show()"
      ],
      "execution_count": null,
      "outputs": [
        {
          "output_type": "display_data",
          "data": {
            "text/plain": [
              "<Figure size 720x432 with 2 Axes>"
            ],
            "image/png": "[encoded data removed]"
          },
          "metadata": {
            "tags": [],
            "needs_background": "light"
          }
        }
      ]
    },
    {
      "cell_type": "code",
      "metadata": {
        "trusted": true,
        "id": "ATO9RMgjnOzH",
        "outputId": "ef3ace3d-7294-4ad1-e3e5-85ea715f2560"
      },
      "source": [
        "#Analysis of ACF and PACF on differece Close Price\n",
        "fig = plt.figure(figsize=(10,6))\n",
        "ax1 = fig.add_subplot(211)\n",
        "fig = sm.graphics.tsa.plot_acf(df['ActivePower'].diff().dropna(), lags=30, ax=ax1)\n",
        "ax2 = fig.add_subplot(212)\n",
        "fig = sm.graphics.tsa.plot_pacf(df['ActivePower'].diff().dropna(), lags=30, ax=ax2)\n",
        "plt.xlabel('Time lag')\n",
        "plt.show()"
      ],
      "execution_count": null,
      "outputs": [
        {
          "output_type": "display_data",
          "data": {
            "text/plain": [
              "<Figure size 720x432 with 2 Axes>"
            ],
            "image/png": "[encoded data removed]"
          },
          "metadata": {
            "tags": [],
            "needs_background": "light"
          }
        }
      ]
    },
    {
      "cell_type": "markdown",
      "metadata": {
        "id": "KmoI32bInOzH"
      },
      "source": [
        "### Modelling"
      ]
    },
    {
      "cell_type": "code",
      "metadata": {
        "trusted": true,
        "id": "2vPsPdEKnOzH"
      },
      "source": [
        "from statsmodels.tsa.arima_model import ARIMA\n",
        "model=ARIMA(df['ActivePower'][:5000],order=(2,0,3))\n",
        "model_fit=model.fit()"
      ],
      "execution_count": null,
      "outputs": []
    },
    {
      "cell_type": "code",
      "metadata": {
        "trusted": true,
        "id": "jMakTSgRnOzH",
        "outputId": "8d4a969f-eefb-4f5f-8a25-875a7c646053"
      },
      "source": [
        "# Plot residual errors\n",
        "residuals = pd.DataFrame(model_fit.resid)\n",
        "fig, ax = plt.subplots(1,2)\n",
        "residuals.plot(title=\"Residuals\", ax=ax[0])\n",
        "residuals.plot(kind='kde', title='Density', ax=ax[1])\n",
        "plt.show()"
      ],
      "execution_count": null,
      "outputs": [
        {
          "output_type": "display_data",
          "data": {
            "text/plain": [
              "<Figure size 432x288 with 2 Axes>"
            ],
            "image/png": "[encoded data removed]"
          },
          "metadata": {
            "tags": [],
            "needs_background": "light"
          }
        }
      ]
    },
    {
      "cell_type": "code",
      "metadata": {
        "trusted": true,
        "id": "7zF2-5sNnOzI",
        "outputId": "4c098d62-1119-4975-a16f-a0a6d2284d04"
      },
      "source": [
        "# Actual vs Fitted\n",
        "model_fit.plot_predict(dynamic=False )\n",
        "plt.show()"
      ],
      "execution_count": null,
      "outputs": [
        {
          "output_type": "display_data",
          "data": {
            "text/plain": [
              "<Figure size 432x288 with 1 Axes>"
            ],
            "image/png": "[encoded data removed]"
          },
          "metadata": {
            "tags": [],
            "needs_background": "light"
          }
        }
      ]
    },
    {
      "cell_type": "code",
      "metadata": {
        "trusted": true,
        "id": "1qo6l96vnOzI"
      },
      "source": [
        "# splitting data into test and train datasets\n",
        "from sklearn.model_selection import train_test_split\n",
        "train = df['ActivePower'][:1000]\n",
        "test = df['ActivePower'][1000:1015]"
      ],
      "execution_count": null,
      "outputs": []
    },
    {
      "cell_type": "code",
      "metadata": {
        "trusted": true,
        "id": "jnVBXvcGnOzI"
      },
      "source": [
        "# Forecast\n",
        "fc, se, conf = model_fit.forecast(15, alpha=0.05)  # 95% conf\n",
        "\n",
        "# Make as pandas series\n",
        "fc_series = pd.Series(fc, index=test.index)\n",
        "lower_series = pd.Series(conf[:, 0], index=test.index)\n",
        "upper_series = pd.Series(conf[:, 1], index=test.index)"
      ],
      "execution_count": null,
      "outputs": []
    },
    {
      "cell_type": "code",
      "metadata": {
        "trusted": true,
        "id": "QmYd4AgbnOzI",
        "outputId": "1dd51eae-bcbd-40f6-d4fd-caee0b956af8"
      },
      "source": [
        "# Accuracy metrics\n",
        "def forecast_accuracy(forecast, actual):\n",
        "    mape = np.mean(np.abs(forecast - actual)/np.abs(actual))  # MAPE\n",
        "    me = np.mean(forecast - actual)             # ME\n",
        "    mae = np.mean(np.abs(forecast - actual))    # MAE\n",
        "    mpe = np.mean((forecast - actual)/actual)   # MPE\n",
        "    rmse = np.mean((forecast - actual)**2)**.5  # RMSE\n",
        "    corr = np.corrcoef(forecast, actual)[0,1]   # corr\n",
        "    mins = np.amin(np.hstack([forecast[:,None], \n",
        "                              actual[:,None]]), axis=1)\n",
        "    maxs = np.amax(np.hstack([forecast[:,None], \n",
        "                              actual[:,None]]), axis=1)\n",
        "    minmax = 1 - np.mean(mins/maxs)             # minmax\n",
        "    return({'mape':mape, 'me':me, 'mae': mae, \n",
        "            'mpe': mpe, 'rmse':rmse, \n",
        "            'corr':corr, 'minmax':minmax})\n",
        "\n",
        "forecast_accuracy(fc, test.values)\n"
      ],
      "execution_count": null,
      "outputs": [
        {
          "output_type": "execute_result",
          "data": {
            "text/plain": [
              "{'mape': 0.02618515791159242,\n",
              " 'me': -10.54358196555202,\n",
              " 'mae': 10.54358196555202,\n",
              " 'mpe': -0.02618515791159242,\n",
              " 'rmse': 11.626161629259185,\n",
              " 'corr': -5.4147287338992556e-15,\n",
              " 'minmax': 0.02618515791159237}"
            ]
          },
          "metadata": {
            "tags": []
          },
          "execution_count": 89
        }
      ]
    },
    {
      "cell_type": "markdown",
      "metadata": {
        "id": "942HxlADnOzJ"
      },
      "source": [
        "****Around 2.6% MAPE implies the model is about 97.4% accurate in predicting the next 15 observations.****"
      ]
    }
  ]
}